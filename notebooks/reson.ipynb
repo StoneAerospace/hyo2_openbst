{
 "cells": [
  {
   "cell_type": "code",
   "execution_count": 1,
   "metadata": {},
   "outputs": [],
   "source": [
    "import logging\n",
    "from pathlib import Path\n",
    "import traceback\n",
    "\n",
    "from scipy import interpolate as interp_sp\n",
    "import numpy as np\n",
    "# noinspection PyUnresolvedReferences\n",
    "from PySide2 import QtWidgets\n",
    "import matplotlib.pyplot as plt\n",
    "from pyproj import Geod, Proj\n",
    "\n",
    "from hyo2.openbst.lib import prr\n",
    "\n",
    "logger = logging.getLogger(__name__)"
   ]
  }
 ],
 "metadata": {
  "kernelspec": {
   "display_name": "Python 3",
   "language": "python",
   "name": "python3"
  },
  "language_info": {
   "codemirror_mode": {
    "name": "ipython",
    "version": 3
   },
   "file_extension": ".py",
   "mimetype": "text/x-python",
   "name": "python",
   "nbconvert_exporter": "python",
   "pygments_lexer": "ipython3",
   "version": "3.6.7"
  }
 },
 "nbformat": 4,
 "nbformat_minor": 2
}
