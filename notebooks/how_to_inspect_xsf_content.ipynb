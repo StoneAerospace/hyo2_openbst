{
 "cells": [
  {
   "cell_type": "markdown",
   "metadata": {},
   "source": [
    "# How to Inspect the XSF File Content"
   ]
  },
  {
   "cell_type": "markdown",
   "metadata": {},
   "source": [
    "This notebook shows how to load and display the content of an Extensible Sounder Format (XSF) File"
   ]
  },
  {
   "cell_type": "markdown",
   "metadata": {},
   "source": [
    "## Import the Required Libraries"
   ]
  },
  {
   "cell_type": "code",
   "execution_count": null,
   "metadata": {
    "scrolled": true
   },
   "outputs": [],
   "source": [
    "# use 'matplotlib inline' to avoid the plot interactivity\n",
    "%matplotlib notebook\n",
    "\n",
    "import os\n",
    "import numpy as np\n",
    "import netCDF4  as nc\n",
    "import matplotlib.pyplot as plt\n",
    "from hyo2.abc.lib.testing import Testing"
   ]
  },
  {
   "cell_type": "markdown",
   "metadata": {},
   "source": [
    "## Retrieve XSF File Path"
   ]
  },
  {
   "cell_type": "code",
   "execution_count": null,
   "metadata": {
    "scrolled": true
   },
   "outputs": [],
   "source": [
    "# index of the XSF to use (it is a parameter!)\n",
    "xsf_idx = 0\n",
    "\n",
    "# use an helper class to retrieve all the files with .xsf extension in the \"download\" folder\n",
    "data_folder = os.path.abspath(os.path.join(os.getcwd(), os.pardir))\n",
    "testing = Testing(root_folder=data_folder)\n",
    "xsf_files = testing.download_test_files(ext=\".xsf\")\n",
    "nr_xsf_files = len(xsf_files)\n",
    "if xsf_idx >= nr_xsf_files:\n",
    "    raise RuntimeError(\"Not enough XSF files were retrieved for using %d index!\" % xsf_idx)\n",
    "print(\"Nr. of available XSF files: %s\" % nr_xsf_files)\n",
    "\n",
    "# select the XSF file path\n",
    "xsf_path = xsf_files[xsf_idx]\n",
    "print(\"Path to the selected XSF file: %s\" % xsf_path)"
   ]
  },
  {
   "cell_type": "markdown",
   "metadata": {},
   "source": [
    "## Plot the XSF Content"
   ]
  },
  {
   "cell_type": "code",
   "execution_count": null,
   "metadata": {
    "scrolled": false
   },
   "outputs": [],
   "source": [
    "# modify to suppress/have UserWarnings and RuntimeWarnings\n",
    "suppress_user_warnings = True\n",
    "suppress_runtime_warnings = True\n",
    "if suppress_user_warnings:\n",
    "    import warnings\n",
    "    warnings.filterwarnings(\"ignore\", category=UserWarning)\n",
    "if suppress_runtime_warnings:\n",
    "    import warnings\n",
    "    warnings.filterwarnings(\"ignore\", category=RuntimeWarning)    \n",
    "\n",
    "# modify to change the size of the plots\n",
    "plt.rcParams['figure.dpi'] = 120\n",
    "\n",
    "# modify to add/remove variables to ignore\n",
    "vars_to_ignore = [\"backscatter_r\", ]\n",
    "\n",
    "with nc.Dataset(xsf_path) as root:\n",
    "    \n",
    "    beam_group_ds = root['/root/sonar/beam/Beam_group1/']\n",
    "    \n",
    "    print(beam_group_ds.cmptypes)\n",
    "    \n",
    "    for var_name in beam_group_ds.variables:\n",
    "        \n",
    "        # ignore variables currently with issues\n",
    "        if var_name in vars_to_ignore:\n",
    "            print(\"SKIP: %s (listed to ignore)\" % (var_name, )) \n",
    "            continue\n",
    "               \n",
    "        var = beam_group_ds.variables[var_name]       \n",
    "        if var.ndim not in [1, 2]:\n",
    "            print(\"SKIP: %s (unsupported nr of dims: %d)\" % (var_name, var.ndim)) \n",
    "            continue\n",
    "        if np.isnan(var).all():\n",
    "            print(\"SKIP: %s (all nan values)\" % (var_name, )) \n",
    "            continue            \n",
    "        print(\"-> %s\" % var_name)    \n",
    "    \n",
    "        plt.figure()\n",
    "        \n",
    "        try:\n",
    "            plt.title(\"%s - min: %s, max: %s\" % (var_name, np.nanmin(var), np.nanmax(var)))\n",
    "        except:\n",
    "            plt.title(var_name)\n",
    "            \n",
    "        try:\n",
    "            if var.ndim == 1:\n",
    "                plt.plot(var)\n",
    "                \n",
    "            elif var.ndim == 2:\n",
    "                plt.imshow(var, origin='lower')\n",
    "\n",
    "        except Exception as e:\n",
    "            print(\"SKIP: %s (%s)\" % (var_name, e))"
   ]
  },
  {
   "cell_type": "markdown",
   "metadata": {},
   "source": [
    "The above plots show the content for the selected XSF file."
   ]
  }
 ],
 "metadata": {
  "kernelspec": {
   "display_name": "Python 3",
   "language": "python",
   "name": "python3"
  },
  "language_info": {
   "codemirror_mode": {
    "name": "ipython",
    "version": 3
   },
   "file_extension": ".py",
   "mimetype": "text/x-python",
   "name": "python",
   "nbconvert_exporter": "python",
   "pygments_lexer": "ipython3",
   "version": "3.6.7"
  }
 },
 "nbformat": 4,
 "nbformat_minor": 2
}
